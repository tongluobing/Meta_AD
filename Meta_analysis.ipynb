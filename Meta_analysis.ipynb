{
 "cells": [
  {
   "cell_type": "code",
   "execution_count": 2,
   "source": [
    "import datasets\r\n",
    "\r\n",
    "import nibabel as nib\r\n",
    "import os\r\n",
    "import pickle\r\n",
    "import pandas as pd\r\n",
    "import seaborn as sns\r\n",
    "import numpy as np\r\n",
    "\r\n",
    "import draw_results\r\n",
    "import gene_analysis\r\n",
    "import removing_confound\r\n",
    "import meta_roi\r\n",
    "import meta_voxel\r\n",
    "import meta_vertex\r\n",
    "import meta_confound\r\n",
    "import correlation\r\n",
    "from mask import Mask, NiiMask\r\n",
    "import mixed_lm"
   ],
   "outputs": [
    {
     "output_type": "stream",
     "name": "stderr",
     "text": [
      "D:\\Software\\conda\\envs\\meta\\lib\\site-packages\\nilearn\\datasets\\__init__.py:89: FutureWarning: Fetchers from the nilearn.datasets module will be updated in version 0.9 to return python strings instead of bytes and Pandas dataframes instead of Numpy arrays.\n",
      "  \"Numpy arrays.\", FutureWarning)\n"
     ]
    }
   ],
   "metadata": {}
  },
  {
   "cell_type": "code",
   "execution_count": 3,
   "source": [
    "#Assume all data is organized\r\n",
    "#Load dataset\r\n",
    "centers = datasets.load_centers_all()\r\n",
    "\r\n",
    "#Define ROI Mask\r\n",
    "mask_path = './data/mask/rBN_Atlas_246_1mm.nii'\r\n",
    "mask = NiiMask(mask_path)\r\n",
    "\r\n",
    "label_pairs = [(2,0), (2,1), (1,0)]"
   ],
   "outputs": [],
   "metadata": {}
  },
  {
   "cell_type": "markdown",
   "source": [
    "# Create ROI csv, and remove confound for each center"
   ],
   "metadata": {}
  },
  {
   "cell_type": "code",
   "execution_count": 3,
   "source": [
    "\"\"\"\r\n",
    "#Create ROI GMV/CT csv file\r\n",
    "for center in centers:\r\n",
    "    center.create_rgmv_csv(mask, gmv_csv_prefix='roi_gmv/{}.csv')\r\n",
    "    center.create_rct_csv()\r\n",
    "\"\"\"\r\n",
    "#Remove confound\r\n",
    "# ROI\r\n",
    "removing_confound.remove_roi(centers)\r\n",
    "removing_confound.remove_roi(centers, csv_prefix='roi_ct/{}.csv',\r\n",
    "                                out_prefix='roi_ct_removed/{}.csv')\r\n",
    "\"\"\"\r\n",
    "# Voxel\r\n",
    "centers = datasets.load_centers_edsd()\r\n",
    "removing_confound.remove_nii(centers, mask, batch_reg=False)\r\n",
    "centers = datasets.load_centers_mcad()\r\n",
    "removing_confound.remove_nii(centers, mask, batch_reg=False)\r\n",
    "centers = datasets.load_centers_adni()\r\n",
    "removing_confound.remove_nii(centers, mask, batch_reg=True, batch_size=4000000)\r\n",
    "\r\n",
    "# Vertex\r\n",
    "centers = datasets.load_centers_all()\r\n",
    "removing_confound.remove_gii(centers)\r\n",
    "\"\"\""
   ],
   "outputs": [
    {
     "output_type": "stream",
     "name": "stdout",
     "text": [
      "MCAD\\AD_S01\n",
      "loading x\n",
      "loading y\n",
      "Regression\n",
      "Write New Data\n",
      "MCAD\\AD_S02\n",
      "loading x\n",
      "loading y\n",
      "Regression\n",
      "Write New Data\n",
      "MCAD\\AD_S03\n",
      "loading x\n",
      "loading y\n",
      "Regression\n",
      "Write New Data\n",
      "MCAD\\AD_S04\n",
      "loading x\n",
      "loading y\n",
      "Regression\n",
      "Write New Data\n",
      "MCAD\\AD_S05\n",
      "loading x\n",
      "loading y\n",
      "Regression\n",
      "Write New Data\n",
      "MCAD\\AD_S06\n",
      "loading x\n",
      "loading y\n",
      "Regression\n",
      "Write New Data\n",
      "MCAD\\AD_S07\n",
      "loading x\n",
      "loading y\n",
      "Regression\n",
      "Write New Data\n",
      "MCAD\\AD_S08\n",
      "loading x\n",
      "loading y\n",
      "Regression\n",
      "Write New Data\n",
      "EDSD\\AMS\n",
      "loading x\n",
      "loading y\n",
      "Regression\n",
      "Write New Data\n",
      "EDSD\\BRE\n",
      "loading x\n",
      "loading y\n",
      "Regression\n",
      "Write New Data\n",
      "EDSD\\CAM\n",
      "loading x\n",
      "loading y\n",
      "Regression\n",
      "Write New Data\n",
      "EDSD\\DUB\n",
      "loading x\n",
      "loading y\n",
      "Regression\n",
      "Write New Data\n",
      "EDSD\\FRA\n",
      "loading x\n",
      "loading y\n",
      "Regression\n",
      "Write New Data\n",
      "EDSD\\FRE\n",
      "loading x\n",
      "loading y\n",
      "Regression\n",
      "Write New Data\n",
      "EDSD\\MAI\n",
      "loading x\n",
      "loading y\n",
      "Regression\n",
      "Write New Data\n",
      "EDSD\\MAN\n",
      "loading x\n",
      "loading y\n",
      "Regression\n",
      "Write New Data\n",
      "EDSD\\MIL\n",
      "loading x\n",
      "loading y\n",
      "Regression\n",
      "Write New Data\n",
      "EDSD\\MUN\n",
      "loading x\n",
      "loading y\n",
      "Regression\n",
      "Write New Data\n",
      "EDSD\\ROS\n",
      "loading x\n",
      "loading y\n",
      "Regression\n",
      "Write New Data\n",
      "EDSD\\ROS_3T\n",
      "loading x\n",
      "loading y\n",
      "Regression\n",
      "Write New Data\n",
      "ADNI\\ADNI1\n",
      "loading x\n",
      "loading y\n",
      "Regression\n",
      "Write New Data\n",
      "ADNI\\ADNI2\n",
      "loading x\n",
      "loading y\n",
      "Regression\n",
      "Write New Data\n",
      "ADNI\\ADNI3\n",
      "loading x\n",
      "loading y\n",
      "Regression\n",
      "Write New Data\n",
      "MCAD\\AD_S01\n",
      "loading x\n",
      "loading y\n",
      "Regression\n",
      "Write New Data\n",
      "MCAD\\AD_S02\n",
      "loading x\n",
      "loading y\n",
      "Regression\n",
      "Write New Data\n",
      "MCAD\\AD_S03\n",
      "loading x\n",
      "loading y\n",
      "Regression\n",
      "Write New Data\n",
      "MCAD\\AD_S04\n",
      "loading x\n",
      "loading y\n",
      "Regression\n",
      "Write New Data\n",
      "MCAD\\AD_S05\n",
      "loading x\n",
      "loading y\n",
      "Regression\n",
      "Write New Data\n",
      "MCAD\\AD_S06\n",
      "loading x\n",
      "loading y\n",
      "Regression\n",
      "Write New Data\n",
      "MCAD\\AD_S07\n",
      "loading x\n",
      "loading y\n",
      "Regression\n",
      "Write New Data\n",
      "MCAD\\AD_S08\n",
      "loading x\n",
      "loading y\n",
      "Regression\n",
      "Write New Data\n",
      "EDSD\\AMS\n",
      "loading x\n",
      "loading y\n",
      "Regression\n",
      "Write New Data\n",
      "EDSD\\BRE\n",
      "loading x\n",
      "loading y\n",
      "Regression\n",
      "Write New Data\n",
      "EDSD\\CAM\n",
      "loading x\n",
      "loading y\n",
      "Regression\n",
      "Write New Data\n",
      "EDSD\\DUB\n",
      "loading x\n",
      "loading y\n",
      "Regression\n",
      "Write New Data\n",
      "EDSD\\FRA\n",
      "loading x\n",
      "loading y\n",
      "Regression\n",
      "Write New Data\n",
      "EDSD\\FRE\n",
      "loading x\n",
      "loading y\n",
      "Regression\n",
      "Write New Data\n",
      "EDSD\\MAI\n",
      "loading x\n",
      "loading y\n",
      "Regression\n",
      "Write New Data\n",
      "EDSD\\MAN\n",
      "loading x\n",
      "loading y\n",
      "Regression\n",
      "Write New Data\n",
      "EDSD\\MIL\n",
      "loading x\n",
      "loading y\n",
      "Regression\n",
      "Write New Data\n",
      "EDSD\\MUN\n",
      "loading x\n",
      "loading y\n",
      "Regression\n",
      "Write New Data\n",
      "EDSD\\ROS\n",
      "loading x\n",
      "loading y\n",
      "Regression\n",
      "Write New Data\n",
      "EDSD\\ROS_3T\n",
      "loading x\n",
      "loading y\n",
      "Regression\n",
      "Write New Data\n",
      "ADNI\\ADNI1\n",
      "loading x\n",
      "loading y\n",
      "Regression\n",
      "Write New Data\n",
      "ADNI\\ADNI2\n",
      "loading x\n",
      "loading y\n",
      "Regression\n",
      "Write New Data\n",
      "ADNI\\ADNI3\n",
      "loading x\n",
      "loading y\n",
      "Regression\n",
      "Write New Data\n"
     ]
    },
    {
     "output_type": "execute_result",
     "data": {
      "text/plain": [
       "'\\n# Voxel\\ncenters = datasets.load_centers_edsd()\\nremoving_confound.remove_nii(centers, mask, batch_reg=False)\\ncenters = datasets.load_centers_mcad()\\nremoving_confound.remove_nii(centers, mask, batch_reg=False)\\ncenters = datasets.load_centers_adni()\\nremoving_confound.remove_nii(centers, mask, batch_reg=True, batch_size=4000000)\\n\\n# Vertex\\ncenters = datasets.load_centers_all()\\nremoving_confound.remove_gii(centers)\\n'"
      ]
     },
     "metadata": {},
     "execution_count": 3
    }
   ],
   "metadata": {}
  },
  {
   "cell_type": "markdown",
   "source": [
    "# Perform meta-analysis"
   ],
   "metadata": {}
  },
  {
   "cell_type": "markdown",
   "source": [
    "## ROI"
   ],
   "metadata": {}
  },
  {
   "cell_type": "code",
   "execution_count": 4,
   "source": [
    "# ROI\r\n",
    "csv_prefixs = ['roi_gmv' ,'roi_ct', 'roi_gmv_removed', 'roi_ct_removed']\r\n",
    "\r\n",
    "# Create csv for meta analysis\r\n",
    "for csv_prefix in csv_prefixs:\r\n",
    "    for label_pair in label_pairs:\r\n",
    "        label_eg = label_pair[0]\r\n",
    "        label_cg = label_pair[1]\r\n",
    "        meta_roi.create_csv_for_meta(centers, label_eg, label_cg, csv_prefix)\r\n",
    "#%%\r\n",
    "for label_pair in label_pairs:\r\n",
    "    label_eg = label_pair[0]\r\n",
    "    label_cg = label_pair[1]\r\n",
    "    # GMV meta-analysis\r\n",
    "    meta_roi.meta_gmv(label_eg, label_cg, mask, csv_prefix='roi_gmv')\r\n",
    "    meta_roi.meta_gmv(label_eg, label_cg, mask, csv_prefix='roi_gmv_removed')\r\n",
    "    # CT meta-analysis\r\n",
    "    meta_roi.meta_ct(label_eg, label_cg, csv_prefix='roi_ct', mask=mask, save_gii=False, save_nii=True)\r\n",
    "    meta_roi.meta_ct(label_eg, label_cg, csv_prefix='roi_ct_removed', mask=mask, save_gii=False, save_nii=True)"
   ],
   "outputs": [],
   "metadata": {}
  },
  {
   "cell_type": "markdown",
   "source": [
    "# Plot correlation between each center"
   ],
   "metadata": {}
  },
  {
   "cell_type": "code",
   "execution_count": 13,
   "source": [
    "import matplotlib.pyplot as plt\r\n",
    "import seaborn as sns\r\n",
    "# Create Dataframe with full sites\r\n",
    "es_df_columns = ['Total']\r\n",
    "for center in centers:\r\n",
    "    es_df_columns.append(center.name)\r\n",
    "\r\n",
    "roi_count = 246\r\n",
    "es_df = pd.DataFrame(columns=es_df_columns, index=[i for i in range(1, roi_count+1)])\r\n",
    "\r\n",
    "# perform meta_analysis\r\n",
    "result_models = meta_roi.meta_gmv(2, 0, mask, save_nii=False,\r\n",
    "                                  csv_prefix='roi_gmv_removed')\r\n",
    "for roi in range(1, roi_count+1):\r\n",
    "    values = [result_models[roi].total_effect_size]\r\n",
    "    for center in centers:\r\n",
    "        value = np.NaN\r\n",
    "        for study, es in zip(result_models[roi].studies, result_models[roi].effect_sizes):\r\n",
    "            if center.name == study.name:\r\n",
    "                value = es\r\n",
    "        values.append(value)\r\n",
    "    es_df.loc[roi] = values\r\n",
    "es_df = es_df.astype(np.float32)\r\n",
    "es_df = es_df.dropna(axis=1, how='any')\r\n",
    "\r\n",
    "corr_df = es_df.corr()\r\n",
    "# Set up the matplotlib figure\r\n",
    "f, ax = plt.subplots(figsize=(9, 9))\r\n",
    "cmap = sns.color_palette(\"cubehelix_r\", as_cmap=True)\r\n",
    "# Draw the heatmap with the mask and correct aspect ratio\r\n",
    "ax = sns.heatmap(corr_df, cmap='YlGnBu', vmin=0, vmax=1,\r\n",
    "            square=True, linewidths=.5, cbar_kws={\"shrink\": .8})\r\n",
    "ax.axis('off')\r\n",
    "plt.show()"
   ],
   "outputs": [
    {
     "output_type": "display_data",
     "data": {
      "image/png": "[encoded data removed]",
      "text/plain": [
       "<Figure size 648x648 with 2 Axes>"
      ]
     },
     "metadata": {
      "needs_background": "light"
     }
    }
   ],
   "metadata": {}
  },
  {
   "cell_type": "markdown",
   "source": [
    "# Center heterogeneity"
   ],
   "metadata": {}
  },
  {
   "cell_type": "code",
   "execution_count": null,
   "source": [
    "label_eg = 2\r\n",
    "label_cg = 0\r\n",
    "# GMV meta-analysis\r\n",
    "result_models = meta_roi.meta_gmv(label_eg, label_cg, mask,\r\n",
    "                                 save_nii=False,csv_prefix='roi_gmv_removed')\r\n",
    "from draw_results import plot_correlation\r\n",
    "ess = []\r\n",
    "heters = []\r\n",
    "for k, model in result_models.items():\r\n",
    "    ess.append(model.total_effect_size)\r\n",
    "    heters.append(model.q)\r\n",
    "plot_correlation(ess, heters)"
   ],
   "outputs": [],
   "metadata": {}
  },
  {
   "cell_type": "code",
   "execution_count": null,
   "source": [
    "# Check how many ROI pass correction\r\n",
    "for label_pair in label_pairs:\r\n",
    "    label_eg = label_pair[0]\r\n",
    "    label_cg = label_pair[1]\r\n",
    "    # GMV meta-analysis\r\n",
    "    roi_models =meta_roi.meta_gmv(label_eg, label_cg, mask, csv_prefix='roi_gmv_removed')\r\n",
    "    #roi_models = meta_roi.meta_ct(label_eg, label_cg, csv_prefix='roi_ct_removed', mask=mask, save_gii=False, save_nii=False)\r\n",
    "    i = 0\r\n",
    "    for key, model in roi_models.items():\r\n",
    "        if model.p < 0.001/246:\r\n",
    "            i += 1\r\n",
    "    print(i)"
   ],
   "outputs": [],
   "metadata": {}
  },
  {
   "cell_type": "code",
   "execution_count": null,
   "source": [
    "for label_pair in label_pairs:\r\n",
    "    label_eg = label_pair[0]\r\n",
    "    label_cg = label_pair[1]\r\n",
    "    # CT meta-analysis\r\n",
    "    roi_models = meta_roi.meta_ct(label_eg, label_cg, csv_prefix='roi_ct_removed', mask=mask, save_gii=False, save_nii=False)\r\n",
    "    i = 0\r\n",
    "    for key, model in roi_models.items():\r\n",
    "        if model.p < 0.001/246:\r\n",
    "            i += 1\r\n",
    "    print(i)"
   ],
   "outputs": [],
   "metadata": {}
  },
  {
   "cell_type": "markdown",
   "source": [
    "## Voxel and Vertex"
   ],
   "metadata": {}
  },
  {
   "cell_type": "code",
   "execution_count": 3,
   "source": [
    "# Voxel\r\n",
    "# Create center mean std nii file\r\n",
    "labels = [0, 1, 2]\r\n",
    "\r\n",
    "for center in centers:\r\n",
    "    temp_nii = nib.load('./data/mask/save_temp.nii')\r\n",
    "    for label in labels:\r\n",
    "        center.create_stat_nii(label, temp_nii, nii_dir='mri_smoothed')\r\n",
    "\r\n",
    "# perform meta-analysis\r\n",
    "for label_pair in label_pairs:\r\n",
    "    label_eg = label_pair[0]\r\n",
    "    label_cg = label_pair[1]\r\n",
    "    meta_voxel.meta_nii(centers, label_eg, label_cg, mri_dir='mri_smoothed')"
   ],
   "outputs": [
    {
     "output_type": "stream",
     "name": "stderr",
     "text": [
      "D:\\Software\\conda\\envs\\meta\\lib\\site-packages\\numpy\\core\\fromnumeric.py:3441: RuntimeWarning: Mean of empty slice.\n",
      "  out=out, **kwargs)\n",
      "D:\\Software\\conda\\envs\\meta\\lib\\site-packages\\numpy\\core\\_methods.py:189: RuntimeWarning: invalid value encountered in double_scalars\n",
      "  ret = ret.dtype.type(ret / rcount)\n",
      "D:\\Software\\conda\\envs\\meta\\lib\\site-packages\\numpy\\core\\_methods.py:263: RuntimeWarning: Degrees of freedom <= 0 for slice\n",
      "  keepdims=keepdims, where=where)\n",
      "D:\\Software\\conda\\envs\\meta\\lib\\site-packages\\numpy\\core\\_methods.py:223: RuntimeWarning: invalid value encountered in true_divide\n",
      "  subok=False)\n",
      "D:\\Software\\conda\\envs\\meta\\lib\\site-packages\\numpy\\core\\_methods.py:254: RuntimeWarning: invalid value encountered in double_scalars\n",
      "  ret = ret.dtype.type(ret / rcount)\n",
      "D:\\Software\\conda\\envs\\meta\\lib\\site-packages\\numpy\\core\\fromnumeric.py:3441: RuntimeWarning: Mean of empty slice.\n",
      "  out=out, **kwargs)\n",
      "D:\\Software\\conda\\envs\\meta\\lib\\site-packages\\numpy\\core\\_methods.py:189: RuntimeWarning: invalid value encountered in double_scalars\n",
      "  ret = ret.dtype.type(ret / rcount)\n",
      "D:\\Software\\conda\\envs\\meta\\lib\\site-packages\\numpy\\core\\_methods.py:263: RuntimeWarning: Degrees of freedom <= 0 for slice\n",
      "  keepdims=keepdims, where=where)\n",
      "D:\\Software\\conda\\envs\\meta\\lib\\site-packages\\numpy\\core\\_methods.py:223: RuntimeWarning: invalid value encountered in true_divide\n",
      "  subok=False)\n",
      "D:\\Software\\conda\\envs\\meta\\lib\\site-packages\\numpy\\core\\_methods.py:254: RuntimeWarning: invalid value encountered in double_scalars\n",
      "  ret = ret.dtype.type(ret / rcount)\n",
      "D:\\Software\\conda\\envs\\meta\\lib\\site-packages\\numpy\\core\\fromnumeric.py:3441: RuntimeWarning: Mean of empty slice.\n",
      "  out=out, **kwargs)\n",
      "D:\\Software\\conda\\envs\\meta\\lib\\site-packages\\numpy\\core\\_methods.py:189: RuntimeWarning: invalid value encountered in double_scalars\n",
      "  ret = ret.dtype.type(ret / rcount)\n",
      "D:\\Software\\conda\\envs\\meta\\lib\\site-packages\\numpy\\core\\_methods.py:263: RuntimeWarning: Degrees of freedom <= 0 for slice\n",
      "  keepdims=keepdims, where=where)\n",
      "D:\\Software\\conda\\envs\\meta\\lib\\site-packages\\numpy\\core\\_methods.py:223: RuntimeWarning: invalid value encountered in true_divide\n",
      "  subok=False)\n",
      "D:\\Software\\conda\\envs\\meta\\lib\\site-packages\\numpy\\core\\_methods.py:254: RuntimeWarning: invalid value encountered in double_scalars\n",
      "  ret = ret.dtype.type(ret / rcount)\n",
      "D:\\Software\\conda\\envs\\meta\\lib\\site-packages\\numpy\\core\\fromnumeric.py:3441: RuntimeWarning: Mean of empty slice.\n",
      "  out=out, **kwargs)\n",
      "D:\\Software\\conda\\envs\\meta\\lib\\site-packages\\numpy\\core\\_methods.py:189: RuntimeWarning: invalid value encountered in double_scalars\n",
      "  ret = ret.dtype.type(ret / rcount)\n",
      "D:\\Software\\conda\\envs\\meta\\lib\\site-packages\\numpy\\core\\_methods.py:263: RuntimeWarning: Degrees of freedom <= 0 for slice\n",
      "  keepdims=keepdims, where=where)\n",
      "D:\\Software\\conda\\envs\\meta\\lib\\site-packages\\numpy\\core\\_methods.py:223: RuntimeWarning: invalid value encountered in true_divide\n",
      "  subok=False)\n",
      "D:\\Software\\conda\\envs\\meta\\lib\\site-packages\\numpy\\core\\_methods.py:254: RuntimeWarning: invalid value encountered in double_scalars\n",
      "  ret = ret.dtype.type(ret / rcount)\n",
      "D:\\Software\\conda\\envs\\meta\\lib\\site-packages\\numpy\\core\\fromnumeric.py:3441: RuntimeWarning: Mean of empty slice.\n",
      "  out=out, **kwargs)\n",
      "D:\\Software\\conda\\envs\\meta\\lib\\site-packages\\numpy\\core\\_methods.py:189: RuntimeWarning: invalid value encountered in double_scalars\n",
      "  ret = ret.dtype.type(ret / rcount)\n",
      "D:\\Software\\conda\\envs\\meta\\lib\\site-packages\\numpy\\core\\_methods.py:263: RuntimeWarning: Degrees of freedom <= 0 for slice\n",
      "  keepdims=keepdims, where=where)\n",
      "D:\\Software\\conda\\envs\\meta\\lib\\site-packages\\numpy\\core\\_methods.py:223: RuntimeWarning: invalid value encountered in true_divide\n",
      "  subok=False)\n",
      "D:\\Software\\conda\\envs\\meta\\lib\\site-packages\\numpy\\core\\_methods.py:254: RuntimeWarning: invalid value encountered in double_scalars\n",
      "  ret = ret.dtype.type(ret / rcount)\n",
      "D:\\Software\\conda\\envs\\meta\\lib\\site-packages\\numpy\\core\\fromnumeric.py:3441: RuntimeWarning: Mean of empty slice.\n",
      "  out=out, **kwargs)\n",
      "D:\\Software\\conda\\envs\\meta\\lib\\site-packages\\numpy\\core\\_methods.py:189: RuntimeWarning: invalid value encountered in double_scalars\n",
      "  ret = ret.dtype.type(ret / rcount)\n",
      "D:\\Software\\conda\\envs\\meta\\lib\\site-packages\\numpy\\core\\_methods.py:263: RuntimeWarning: Degrees of freedom <= 0 for slice\n",
      "  keepdims=keepdims, where=where)\n",
      "D:\\Software\\conda\\envs\\meta\\lib\\site-packages\\numpy\\core\\_methods.py:223: RuntimeWarning: invalid value encountered in true_divide\n",
      "  subok=False)\n",
      "D:\\Software\\conda\\envs\\meta\\lib\\site-packages\\numpy\\core\\_methods.py:254: RuntimeWarning: invalid value encountered in double_scalars\n",
      "  ret = ret.dtype.type(ret / rcount)\n",
      "D:\\Software\\conda\\envs\\meta\\lib\\site-packages\\numpy\\core\\fromnumeric.py:3441: RuntimeWarning: Mean of empty slice.\n",
      "  out=out, **kwargs)\n",
      "D:\\Software\\conda\\envs\\meta\\lib\\site-packages\\numpy\\core\\_methods.py:189: RuntimeWarning: invalid value encountered in double_scalars\n",
      "  ret = ret.dtype.type(ret / rcount)\n",
      "D:\\Software\\conda\\envs\\meta\\lib\\site-packages\\numpy\\core\\_methods.py:263: RuntimeWarning: Degrees of freedom <= 0 for slice\n",
      "  keepdims=keepdims, where=where)\n",
      "D:\\Software\\conda\\envs\\meta\\lib\\site-packages\\numpy\\core\\_methods.py:223: RuntimeWarning: invalid value encountered in true_divide\n",
      "  subok=False)\n",
      "D:\\Software\\conda\\envs\\meta\\lib\\site-packages\\numpy\\core\\_methods.py:254: RuntimeWarning: invalid value encountered in double_scalars\n",
      "  ret = ret.dtype.type(ret / rcount)\n",
      "D:\\Software\\conda\\envs\\meta\\lib\\site-packages\\numpy\\core\\fromnumeric.py:3441: RuntimeWarning: Mean of empty slice.\n",
      "  out=out, **kwargs)\n",
      "D:\\Software\\conda\\envs\\meta\\lib\\site-packages\\numpy\\core\\_methods.py:189: RuntimeWarning: invalid value encountered in double_scalars\n",
      "  ret = ret.dtype.type(ret / rcount)\n",
      "D:\\Software\\conda\\envs\\meta\\lib\\site-packages\\numpy\\core\\_methods.py:263: RuntimeWarning: Degrees of freedom <= 0 for slice\n",
      "  keepdims=keepdims, where=where)\n",
      "D:\\Software\\conda\\envs\\meta\\lib\\site-packages\\numpy\\core\\_methods.py:223: RuntimeWarning: invalid value encountered in true_divide\n",
      "  subok=False)\n",
      "D:\\Software\\conda\\envs\\meta\\lib\\site-packages\\numpy\\core\\_methods.py:254: RuntimeWarning: invalid value encountered in double_scalars\n",
      "  ret = ret.dtype.type(ret / rcount)\n",
      "D:\\Software\\conda\\envs\\meta\\lib\\site-packages\\numpy\\core\\fromnumeric.py:3441: RuntimeWarning: Mean of empty slice.\n",
      "  out=out, **kwargs)\n",
      "D:\\Software\\conda\\envs\\meta\\lib\\site-packages\\numpy\\core\\_methods.py:189: RuntimeWarning: invalid value encountered in double_scalars\n",
      "  ret = ret.dtype.type(ret / rcount)\n",
      "D:\\Software\\conda\\envs\\meta\\lib\\site-packages\\numpy\\core\\_methods.py:263: RuntimeWarning: Degrees of freedom <= 0 for slice\n",
      "  keepdims=keepdims, where=where)\n",
      "D:\\Software\\conda\\envs\\meta\\lib\\site-packages\\numpy\\core\\_methods.py:223: RuntimeWarning: invalid value encountered in true_divide\n",
      "  subok=False)\n",
      "D:\\Software\\conda\\envs\\meta\\lib\\site-packages\\numpy\\core\\_methods.py:254: RuntimeWarning: invalid value encountered in double_scalars\n",
      "  ret = ret.dtype.type(ret / rcount)\n",
      "h:\\workspace\\meta_analysis\\meta_analysis\\data.py:155: RuntimeWarning: divide by zero encountered in true_divide\n",
      "  d = (m1 - m2) / s\n",
      "h:\\workspace\\meta_analysis\\meta_analysis\\data.py:185: RuntimeWarning: invalid value encountered in double_scalars\n",
      "  upper_limits = self.effect_size + 1.96 * self.standard_error\n",
      "h:\\workspace\\meta_analysis\\meta_analysis\\data.py:184: RuntimeWarning: invalid value encountered in double_scalars\n",
      "  lower_limits = self.effect_size - 1.96 * self.standard_error\n",
      "h:\\workspace\\meta_analysis\\meta_analysis\\data.py:155: RuntimeWarning: invalid value encountered in true_divide\n",
      "  d = (m1 - m2) / s\n",
      "D:\\Software\\conda\\envs\\meta\\lib\\site-packages\\nilearn\\surface\\surface.py:688: VisibleDeprecationWarning: Creating an ndarray from ragged nested sequences (which is a list-or-tuple of lists-or-tuples-or ndarrays with different lengths or shapes) is deprecated. If you meant to do this, you must specify 'dtype=object' when creating the ndarray.\n",
      "  return np.asarray([arr.data for arr in gifti_img.darrays]).T.squeeze()\n"
     ]
    }
   ],
   "metadata": {}
  },
  {
   "cell_type": "code",
   "execution_count": 14,
   "source": [
    "\"\"\"\r\n",
    "# Vertex\r\n",
    "# Create center mean std numpy file\r\n",
    "labels = [0,1,2]\r\n",
    "for center in centers:\r\n",
    "    for label in labels:\r\n",
    "        center.create_stat_gii(label, prefix='surf/s15.mesh.thickness.resampled_32k.{}.gii')\r\n",
    "\"\"\"\r\n",
    "# perform meta-analysis for resampled surface\r\n",
    "for label_pair in label_pairs:\r\n",
    "    label_eg = label_pair[0]\r\n",
    "    label_cg = label_pair[1]\r\n",
    "    meta_vertex.meta_gii(centers, label_eg, label_cg)"
   ],
   "outputs": [],
   "metadata": {}
  },
  {
   "cell_type": "markdown",
   "source": [
    "# personal score"
   ],
   "metadata": {}
  },
  {
   "cell_type": "code",
   "execution_count": 4,
   "source": [
    "from data_harmonization import neurocombat\r\n",
    "\r\n",
    "neurocombat(centers, personal_info_prefix = 'personal_info/{}.csv',\r\n",
    "                cat_prefix = 'report/cat_{}.xml',\r\n",
    "                csv_prefix = 'roi_gmv/{}.csv',\r\n",
    "                out_prefix = 'neurocombat_gmv/{}.csv')\r\n",
    "neurocombat(centers, personal_info_prefix = 'personal_info/{}.csv',\r\n",
    "                cat_prefix = 'report/cat_{}.xml',\r\n",
    "                csv_prefix = 'roi_ct/{}.csv',\r\n",
    "                out_prefix = 'neurocombat_ct/{}.csv')"
   ],
   "outputs": [
    {
     "output_type": "stream",
     "name": "stdout",
     "text": [
      "[neuroCombat] Creating design matrix\n",
      "[neuroCombat] Standardizing data across features\n",
      "[neuroCombat] Fitting L/S model and finding priors\n",
      "[neuroCombat] Finding parametric adjustments\n",
      "[neuroCombat] Final adjustment of data\n",
      "[neuroCombat] Creating design matrix\n",
      "[neuroCombat] Standardizing data across features\n",
      "[neuroCombat] Fitting L/S model and finding priors\n",
      "[neuroCombat] Finding parametric adjustments\n",
      "[neuroCombat] Final adjustment of data\n"
     ]
    }
   ],
   "metadata": {}
  },
  {
   "cell_type": "code",
   "execution_count": 5,
   "source": [
    "# Create stats csv for each label\r\n",
    "from personal_scores import create_stats_csv, cal_personal_scores\r\n",
    "\r\n",
    "create_stats_csv(centers, 'neurocombat_gmv', out_dir='./data/stats', divide_tiv=False)\r\n",
    "cal_personal_scores(centers, stats_dir='./data/stats/neurocombat_gmv',\r\n",
    "                     csv_prefix='neurocombat_gmv/{}.csv', out_prefix='personal_scores/{}.csv')\r\n"
   ],
   "outputs": [],
   "metadata": {}
  },
  {
   "cell_type": "code",
   "execution_count": null,
   "source": [
    "from personal_scores import plot_stats\r\n",
    "ax, legends = plot_stats('./data/stats/roi_gmv', 217)\r\n",
    "import matplotlib.pyplot as plt\r\n",
    "ax.legend(legends)\r\n",
    "plt.show()"
   ],
   "outputs": [],
   "metadata": {}
  },
  {
   "cell_type": "markdown",
   "source": [
    "### Subtype based on personal scores -> see subtype_unsupervised.py"
   ],
   "metadata": {}
  },
  {
   "cell_type": "markdown",
   "source": [
    "## Confound"
   ],
   "metadata": {}
  },
  {
   "cell_type": "code",
   "execution_count": null,
   "source": [
    "# Create csv for meta analysis\r\n",
    "for label_pair in label_pairs:\r\n",
    "    label_eg = label_pair[0]\r\n",
    "    label_cg = label_pair[1]\r\n",
    "    meta_confound.create_csv_for_meta(centers, label_eg, label_cg)\r\n",
    "\r\n",
    "for label_pair in label_pairs:\r\n",
    "    label_eg = label_pair[0]\r\n",
    "    label_cg = label_pair[1]\r\n",
    "    meta_confound.meta_confound(label_eg, label_cg)"
   ],
   "outputs": [],
   "metadata": {}
  },
  {
   "cell_type": "markdown",
   "source": [
    "# PET: ABeta"
   ],
   "metadata": {}
  },
  {
   "cell_type": "code",
   "execution_count": 6,
   "source": [
    "# abeta PET correlation\r\n",
    "from abeta_pet import ttest_by_label\r\n",
    "import utils\r\n",
    "out_dir_prefix = './results/correlation/{}_{}'\r\n",
    "\r\n",
    "for label_pair in label_pairs:\r\n",
    "    label_eg = label_pair[0]\r\n",
    "    label_cg = label_pair[1]\r\n",
    "    t, p = ttest_by_label(label_eg, label_cg)\r\n",
    "\r\n",
    "    roi_models = meta_roi.meta_gmv(label_eg, label_cg, mask, save_nii=False)\r\n",
    "    es1 = [v.total_effect_size for k,v in sorted(roi_models.items())]\r\n",
    "    es2 = [v for k,v in sorted(t.items())]\r\n",
    "    draw_results.plot_correlation_joint(es1, es2,\r\n",
    "        'Effect sizes of ROI GMV', 't-values of ROI Aβ', fontsize=18, show=False,\r\n",
    "        save=True, out_path=os.path.join(out_dir_prefix.format(label_eg, label_cg), 'gmv', 'abeta.png'))\r\n",
    "\r\n",
    "    roi_models = meta_roi.meta_ct(label_eg, label_cg, mask, save_nii=False, save_gii=False)\r\n",
    "    es1 = [v.total_effect_size for k,v in sorted(roi_models.items()) if int(k)<211]\r\n",
    "    es2 = [v for k,v in sorted(t.items()) if int(k)<211]\r\n",
    "    draw_results.plot_correlation_joint(es1, es2,\r\n",
    "        'Effect sizes of ROI CT', 't-values of ROI Aβ', fontsize=18, show=False,\r\n",
    "        save=True, out_path=os.path.join(out_dir_prefix.format(label_eg, label_cg), 'ct', 'abeta.png'))"
   ],
   "outputs": [
    {
     "output_type": "stream",
     "name": "stderr",
     "text": [
      "h:\\workspace\\AD_meta\\abeta_pet.py:50: PerformanceWarning: DataFrame is highly fragmented.  This is usually the result of calling `frame.insert` many times, which has poor performance.  Consider using pd.concat instead.  To get a de-fragmented frame, use `newframe = frame.copy()`\n",
      "  subject_df[str(i+1)] = roi\n"
     ]
    }
   ],
   "metadata": {}
  },
  {
   "cell_type": "code",
   "execution_count": null,
   "source": [
    "from abeta_pet import create_subject_df \r\n",
    "df = create_subject_df()\r\n",
    "len(df)"
   ],
   "outputs": [],
   "metadata": {}
  },
  {
   "cell_type": "markdown",
   "source": [
    "# PET: FDG"
   ],
   "metadata": {}
  },
  {
   "cell_type": "code",
   "execution_count": 7,
   "source": [
    "from pet_fdg import ttest_by_label\r\n",
    "out_dir_prefix = './results/correlation/{}_{}'\r\n",
    "\r\n",
    "for label_pair in label_pairs:\r\n",
    "    label_eg = label_pair[0]\r\n",
    "    label_cg = label_pair[1]\r\n",
    "    t, p = ttest_by_label(label_eg, label_cg)\r\n",
    "\r\n",
    "    roi_models = meta_roi.meta_gmv(label_eg, label_cg, mask, save_nii=False)\r\n",
    "    es1 = [v.total_effect_size for k,v in sorted(roi_models.items())]\r\n",
    "    es2 = [v for k,v in sorted(t.items())]\r\n",
    "    draw_results.plot_correlation_joint(es1, es2,\r\n",
    "        'Effect sizes of ROI GMV', 't-values of ROI FDG', fontsize=18, show=False,\r\n",
    "        save=True, out_path=os.path.join(out_dir_prefix.format(label_eg, label_cg), 'gmv', 'FDG.png'))\r\n",
    "    \r\n",
    "    roi_models = meta_roi.meta_ct(label_eg, label_cg, mask, save_nii=False, save_gii=False)\r\n",
    "    es1 = [v.total_effect_size for k,v in sorted(roi_models.items()) if int(k)<211]\r\n",
    "    es2 = [v for k,v in sorted(t.items()) if int(k)<211]\r\n",
    "    draw_results.plot_correlation_joint(es1, es2, \r\n",
    "        'Effect sizes of ROI CT', 't-values of ROI FDG', fontsize=18, show=False,\r\n",
    "        save=True, out_path=os.path.join(out_dir_prefix.format(label_eg, label_cg), 'ct', 'FDG.png'))"
   ],
   "outputs": [],
   "metadata": {}
  },
  {
   "cell_type": "code",
   "execution_count": null,
   "source": [
    "from pet_fdg import create_subject_df \r\n",
    "df = create_subject_df()\r\n",
    "len(df)"
   ],
   "outputs": [],
   "metadata": {}
  },
  {
   "cell_type": "markdown",
   "source": [
    "# PET:Juspace"
   ],
   "metadata": {}
  },
  {
   "cell_type": "code",
   "execution_count": 36,
   "source": [
    "pet_dir = './data/PET/masked_mean'\r\n",
    "out_dir_prefix = './results/correlation/{}_{}/{}/PET'\r\n",
    "labels = ['NC', 'MCI', 'AD']\r\n",
    "\r\n",
    "df = pd.DataFrame(columns = ['x', 'y', 'Pearson\\'s r', 'Size', 'p'])\r\n",
    "x_labels = []\r\n",
    "y_labels = []\r\n",
    "label_pairs = [(1,0), (2,1), (2,0)]\r\n",
    "\r\n",
    "y = 1\r\n",
    "for label_pair in label_pairs:\r\n",
    "    label_eg = label_pair[0]\r\n",
    "    label_cg = label_pair[1]\r\n",
    "    roi_gmv_models = meta_roi.meta_gmv(label_eg, label_cg, mask, save_nii=False)\r\n",
    "    roi_ct_models = meta_roi.meta_ct(label_eg, label_cg, save_gii=False, save_nii=False)\r\n",
    "\r\n",
    "    gmv_out_dir = out_dir_prefix.format(label_eg, label_cg, 'gmv')\r\n",
    "    ct_out_dir = out_dir_prefix.format(label_eg, label_cg, 'ct')\r\n",
    "    if not os.path.exists(gmv_out_dir):\r\n",
    "        os.mkdir(gmv_out_dir)\r\n",
    "    if not os.path.exists(ct_out_dir):\r\n",
    "        os.mkdir(ct_out_dir)\r\n",
    "\r\n",
    "    gmv_results = correlation.cor_roi_pet(roi_gmv_models, pet_dir, out_dir=gmv_out_dir,\r\n",
    "                                        fig_width=5, fig_height=5,\r\n",
    "                                        fontsize=18, save=True, show=False)\r\n",
    "    ct_results = correlation.cor_roi_pet(roi_ct_models, pet_dir, out_dir=ct_out_dir,\r\n",
    "                                        fig_width=5, fig_height=5,\r\n",
    "                                        fontsize=18,  save=True, show=False)\r\n",
    "    if not x_labels:\r\n",
    "        for result in gmv_results:\r\n",
    "            x_labels.append(result.name)\r\n",
    "    y_labels.append('{}_{}_CT'.format(labels[label_eg], labels[label_cg]))\r\n",
    "    y_labels.append('{}_{}_GMV'.format(labels[label_eg], labels[label_cg]))\r\n",
    "    \r\n",
    "    x = 1\r\n",
    "    for result in ct_results:\r\n",
    "        df = df.append({'x' : x, 'y' : y, 'Pearson\\'s r' : result.r,\r\n",
    "                        'Size':abs(result.r), 'p': result.p, '-log10 p':-np.log10(result.p)}, \r\n",
    "                        ignore_index = True) \r\n",
    "        x += 1\r\n",
    "\r\n",
    "    x = 1\r\n",
    "    for result in gmv_results:\r\n",
    "        df = df.append({'x' : x, 'y' : y+1, 'Pearson\\'s r' : result.r,\r\n",
    "                        'Size':abs(result.r), 'p': result.p, '-log10 p':-np.log10(result.p)}, \r\n",
    "                        ignore_index = True) \r\n",
    "        x += 1\r\n",
    "    y += 2"
   ],
   "outputs": [],
   "metadata": {}
  },
  {
   "cell_type": "code",
   "execution_count": 35,
   "source": [
    "import matplotlib.pyplot as plt\r\n",
    "def draw_pet_relplot(df, x_labels, y_labels):\r\n",
    "    # Draw each cell as a scatter point with varying size and color\r\n",
    "    sns.set_theme(style=\"whitegrid\")\r\n",
    "    g = sns.relplot(\r\n",
    "        data=df, height=4, aspect=1.8,\r\n",
    "        x=\"x\", y=\"y\", hue=\"Pearson\\'s r\", size=\"-log10 p\",\r\n",
    "        palette=\"vlag\", hue_norm=(-0.7, 0.7), edgecolor=\".7\",\r\n",
    "        sizes=(0, 600), size_norm=(0, 10))\r\n",
    "\r\n",
    "    g.ax.set_xticks(np.arange(1, len(x_labels)+1))\r\n",
    "    g.ax.set_xticklabels(x_labels)\r\n",
    "\r\n",
    "    g.ax.set_yticks(np.arange(1, len(y_labels)+1))\r\n",
    "    g.ax.set_yticklabels(y_labels)\r\n",
    "    \r\n",
    "    g.despine(left=True, bottom=True)\r\n",
    "\r\n",
    "    for label in g.ax.get_xticklabels():\r\n",
    "        label.set_rotation(90)\r\n",
    "        x, y = label.get_position()\r\n",
    "        label.set_position((x, y-0.2))\r\n",
    "    for artist in g.legend.legendHandles:\r\n",
    "        artist.set_edgecolor(\".7\")\r\n",
    "\r\n",
    "    #plt.savefig(r'D:\\Desktop\\abeta_fdg.png', dpi=600)\r\n",
    "    plt.show()\r\n",
    "    \r\n",
    "draw_pet_relplot(df, x_labels, y_labels)"
   ],
   "outputs": [
    {
     "output_type": "display_data",
     "data": {
      "image/png": "[encoded data removed]",
      "text/plain": [
       "<Figure size 596.25x288 with 1 Axes>"
      ]
     },
     "metadata": {}
    }
   ],
   "metadata": {}
  },
  {
   "cell_type": "code",
   "execution_count": 34,
   "source": [
    "import abeta_pet\r\n",
    "import pet_fdg\r\n",
    "import correlation\r\n",
    "\r\n",
    "labels = ['NC', 'MCI', 'AD']\r\n",
    "\r\n",
    "df = pd.DataFrame(columns = ['x', 'y', 'Pearson\\'s r', 'Size', 'p'])\r\n",
    "x_labels = []\r\n",
    "y_labels = []\r\n",
    "label_pairs = [(1,0), (2,1), (2,0)]\r\n",
    "\r\n",
    "y = 1\r\n",
    "for label_pair in label_pairs:\r\n",
    "    label_eg = label_pair[0]\r\n",
    "    label_cg = label_pair[1]\r\n",
    "    roi_gmv_models = meta_roi.meta_gmv(label_eg, label_cg, mask, save_nii=False)\r\n",
    "    roi_ct_models = meta_roi.meta_ct(label_eg, label_cg, save_gii=False, save_nii=False)\r\n",
    "\r\n",
    "    gmv_es_dict = {}\r\n",
    "    for key, roi_gmv_model in roi_gmv_models.items():\r\n",
    "        gmv_es_dict[key] = roi_gmv_model.total_effect_size\r\n",
    "        \r\n",
    "    ct_es_dict = {}\r\n",
    "    for key, roi_ct_model in roi_ct_models.items():\r\n",
    "        ct_es_dict[key] = roi_ct_model.total_effect_size\r\n",
    "\r\n",
    "    abeta_t, _ = abeta_pet.ttest_by_label(label_eg, label_cg)\r\n",
    "    fdg_t, _ =  pet_fdg.ttest_by_label(label_eg, label_cg)\r\n",
    "    \r\n",
    "    gmv_results = [correlation.pearson_r('Abeta', gmv_es_dict, abeta_t), \r\n",
    "                   correlation.pearson_r('FDG', gmv_es_dict, fdg_t)]\r\n",
    "    ct_results = [correlation.pearson_r('Abeta', ct_es_dict, abeta_t), \r\n",
    "                   correlation.pearson_r('FDG', ct_es_dict, fdg_t)]\r\n",
    "\r\n",
    "    if not x_labels:\r\n",
    "        for result in gmv_results:\r\n",
    "            x_labels.append(result.name)\r\n",
    "    y_labels.append('{}_{}_CT'.format(labels[label_eg], labels[label_cg]))\r\n",
    "    y_labels.append('{}_{}_GMV'.format(labels[label_eg], labels[label_cg]))\r\n",
    "    \r\n",
    "    x = 1\r\n",
    "    for result in ct_results:\r\n",
    "        df = df.append({'x' : x, 'y' : y, 'Pearson\\'s r' : result.r,\r\n",
    "                        'Size':abs(result.r), 'p': result.p, '-log10 p':-np.log10(result.p)}, \r\n",
    "                        ignore_index = True) \r\n",
    "        x += 1\r\n",
    "\r\n",
    "    x = 1\r\n",
    "    for result in gmv_results:\r\n",
    "        df = df.append({'x' : x, 'y' : y+1, 'Pearson\\'s r' : result.r,\r\n",
    "                        'Size':abs(result.r), 'p': result.p, '-log10 p':-np.log10(result.p)}, \r\n",
    "                        ignore_index = True) \r\n",
    "        x += 1\r\n",
    "    y += 2"
   ],
   "outputs": [
    {
     "output_type": "stream",
     "name": "stderr",
     "text": [
      "h:\\workspace\\AD_meta\\abeta_pet.py:50: PerformanceWarning: DataFrame is highly fragmented.  This is usually the result of calling `frame.insert` many times, which has poor performance.  Consider using pd.concat instead.  To get a de-fragmented frame, use `newframe = frame.copy()`\n",
      "  subject_df[str(i+1)] = roi\n"
     ]
    }
   ],
   "metadata": {}
  },
  {
   "cell_type": "markdown",
   "source": [
    "# PLSR with Gene"
   ],
   "metadata": {}
  },
  {
   "cell_type": "code",
   "execution_count": 3,
   "source": [
    "n_perm_boot = 5000\r\n",
    "n_components = 5\r\n",
    "out_dir_prefix ='./results/gene/{}_{}'\r\n",
    "label_pairs = [(2,0)]\r\n",
    "for label_pair in label_pairs:\r\n",
    "    label_eg = label_pair[0]\r\n",
    "    label_cg = label_pair[1]\r\n",
    "    out_dir = out_dir_prefix.format(label_eg, label_cg)\r\n",
    "    if not os.path.exists(out_dir):\r\n",
    "        os.mkdir(out_dir)\r\n",
    "    roi_gmv_models = meta_roi.meta_gmv(label_eg, label_cg, mask, save_nii=False)\r\n",
    "    roi_ct_models = meta_roi.meta_ct(label_eg, label_cg, save_gii=False, save_nii=False)\r\n",
    "    \r\n",
    "    gmv_es_dict = {}\r\n",
    "    for k,v in sorted(roi_gmv_models.items()):\r\n",
    "        gmv_es_dict[int(k)] = v.total_effect_size\r\n",
    "        \r\n",
    "    ct_es_dict = {}\r\n",
    "    for k,v in sorted(roi_ct_models.items()):\r\n",
    "        ct_es_dict[int(k)] = v.total_effect_size\r\n",
    "    print('model calculated')\r\n",
    "    gmv_plsr = gene_analysis.plsr(gmv_es_dict, n_components=n_components,\r\n",
    "                                  n_perm=n_perm_boot, n_boot=n_perm_boot,\r\n",
    "                                  out_path=os.path.join(out_dir, 'plsr_gmv.csv'))\r\n",
    "    print('GMV Finished')\r\n",
    "    ct_plsr = gene_analysis.plsr(ct_es_dict, n_components=n_components,\r\n",
    "                                  n_perm=n_perm_boot, n_boot=n_perm_boot,\r\n",
    "                                  out_path=os.path.join(out_dir, 'plsr_ct.csv'))\r\n",
    "\r\n",
    "    with open(os.path.join(out_dir, 'plsr_gmv.pickle'), 'wb') as f:\r\n",
    "        pickle.dump(gmv_plsr, f)\r\n",
    "    with open(os.path.join(out_dir, 'plsr_ct.pickle'), 'wb') as f:\r\n",
    "        pickle.dump(ct_plsr, f)"
   ],
   "outputs": [
    {
     "output_type": "stream",
     "name": "stdout",
     "text": [
      "model calculated\n"
     ]
    },
    {
     "output_type": "stream",
     "name": "stderr",
     "text": []
    },
    {
     "output_type": "stream",
     "name": "stdout",
     "text": [
      "GMV Finished\n"
     ]
    },
    {
     "output_type": "stream",
     "name": "stderr",
     "text": []
    }
   ],
   "metadata": {}
  },
  {
   "cell_type": "markdown",
   "source": [
    "## Check PLSR models"
   ],
   "metadata": {}
  },
  {
   "cell_type": "code",
   "execution_count": 6,
   "source": [
    "# Check plsr model\r\n",
    "result_plsr_dir = './results/gene/2_0'\r\n",
    "with open(os.path.join(result_plsr_dir, 'plsr_gmv.pickle'), 'rb') as f:\r\n",
    "    gmv_plsr = pickle.load(f)\r\n",
    "with open(os.path.join(result_plsr_dir, 'plsr_ct.pickle'), 'rb') as f:\r\n",
    "    ct_plsr = pickle.load(f)\r\n",
    "    \r\n",
    "print('GMV: variance_explained:{:.2f} ,p:{:.2e}'.format(gmv_plsr.varexp[0] , gmv_plsr.permres.pvals[0]))\r\n",
    "print('CT: variance_explained:{:.2f} ,p:{:.2e}'.format(ct_plsr.varexp[0] , ct_plsr.permres.pvals[0]))"
   ],
   "outputs": [
    {
     "output_type": "stream",
     "name": "stdout",
     "text": [
      "GMV: variance_explained:0.42 ,p:2.00e-04\n",
      "CT: variance_explained:0.25 ,p:2.00e-04\n"
     ]
    }
   ],
   "metadata": {}
  },
  {
   "cell_type": "code",
   "execution_count": null,
   "source": [
    "gmv_plsr.permres.pvals"
   ],
   "outputs": [],
   "metadata": {}
  },
  {
   "cell_type": "markdown",
   "source": [
    "# Robustness of PLSR"
   ],
   "metadata": {}
  },
  {
   "cell_type": "code",
   "execution_count": null,
   "source": [
    "# Take 80% subjects for meta then performed PLSR\r\n",
    "label_eg = 2\r\n",
    "label_cg = 0\r\n",
    "for i in range(5000):\r\n",
    "    roi_gmv_models = meta_roi.create_csv_for_meta(centers, label_eg, label_cg,\r\n",
    "                                    csv_prefix='roi_gmv_removed',\r\n",
    "                                    out_path=os.path.join('./data/meta_csv/robust', str(i)),\r\n",
    "                                    ratio=0.8)"
   ],
   "outputs": [],
   "metadata": {}
  },
  {
   "cell_type": "code",
   "execution_count": null,
   "source": [
    "for i in range(5000):\r\n",
    "    print(i)\r\n",
    "    roi_gmv_models = meta_roi.meta_gmv(2, 0, mask,\r\n",
    "                                    csv_dir=f'./data/meta_csv/robust/{i}',\r\n",
    "                                    out_dir='./results/robust',\r\n",
    "                                    save_nii=False)\r\n",
    "    with open(f'./results/robust/result_models_{i}.pkl', 'wb') as f:\r\n",
    "        pickle.dump(roi_gmv_models, f)"
   ],
   "outputs": [],
   "metadata": {}
  },
  {
   "cell_type": "code",
   "execution_count": 4,
   "source": [
    "from scipy.stats import pearsonr\r\n",
    "import pickle\r\n",
    "\r\n",
    "main_models = meta_roi.meta_gmv(2, 0, mask, csv_prefix='roi_gmv_removed')\r\n",
    "main_ess = [model.total_effect_size for k, model in main_models.items()]\r\n",
    "rs = []\r\n",
    "for i in range(5000):\r\n",
    "    with open(f'./results/robust/result_models_{i}.pkl', 'rb') as f:\r\n",
    "        roi_gmv_models = pickle.load(f)\r\n",
    "        ess = [model.total_effect_size for k,model in roi_gmv_models.items()]\r\n",
    "        r,p = pearsonr(main_ess, ess)\r\n",
    "        rs.append(r)\r\n",
    "with open(f'./results/robust/rs.pkl', 'wb') as f:\r\n",
    "    pickle.dump(rs, f)"
   ],
   "outputs": [],
   "metadata": {}
  },
  {
   "cell_type": "code",
   "execution_count": 4,
   "source": [
    "import pickle\r\n",
    "with open(f'./results/robust/rs.pkl', 'rb') as f:\r\n",
    "    rs = pickle.load(f)\r\n",
    "import seaborn as sns\r\n",
    "import matplotlib.pyplot as plt\r\n",
    "sns.histplot(x=rs, fill=True,\r\n",
    "            alpha=.5, linewidth=0,)\r\n",
    "plt.show()"
   ],
   "outputs": [
    {
     "output_type": "display_data",
     "data": {
      "image/png": "[encoded data removed]",
      "text/plain": [
       "<Figure size 432x288 with 1 Axes>"
      ]
     },
     "metadata": {
      "needs_background": "light"
     }
    }
   ],
   "metadata": {}
  },
  {
   "cell_type": "code",
   "execution_count": null,
   "source": [
    "from scipy.stats import pearsonr\r\n",
    "import pandas as pd\r\n",
    "df = pd.read_csv('./results/gene/2_0/plsr_gmv.csv', index_col=0)\r\n",
    "values = df['pls1'].values\r\n",
    "rs = []\r\n",
    "for i in range(5000):\r\n",
    "    print(i)\r\n",
    "    tmp_df = pd.read_csv(f'./results/robust/plsr/plsr_gmv_{i}.csv', index_col=0)\r\n",
    "    tmp_values = tmp_df['pls1'].values\r\n",
    "    r,p = pearsonr(values, tmp_values)\r\n",
    "    rs.append(r)\r\n",
    "import pickle\r\n",
    "with open(f'./results/robust/rs_plsr.pkl', 'wb') as f:\r\n",
    "    pickle.dump(rs, f)"
   ],
   "outputs": [],
   "metadata": {}
  },
  {
   "cell_type": "code",
   "execution_count": 1,
   "source": [
    "import pickle\r\n",
    "import numpy as np\r\n",
    "with open(f'./results/robust/rs_plsr.pkl', 'rb') as f:\r\n",
    "    rs = pickle.load(f)\r\n",
    "rs = np.abs(rs)\r\n",
    "import seaborn as sns\r\n",
    "import matplotlib.pyplot as plt\r\n",
    "sns.histplot(x=rs, fill=True,\r\n",
    "            alpha=.5, linewidth=0,)\r\n",
    "plt.show()"
   ],
   "outputs": [
    {
     "output_type": "display_data",
     "data": {
      "image/png": "[encoded data removed]",
      "text/plain": [
       "<Figure size 432x288 with 1 Axes>"
      ]
     },
     "metadata": {
      "needs_background": "light"
     }
    }
   ],
   "metadata": {}
  },
  {
   "cell_type": "markdown",
   "source": [
    "# Personal Scores & Subtypes"
   ],
   "metadata": {}
  },
  {
   "cell_type": "code",
   "execution_count": 8,
   "source": [
    "from data_harmonization import neurocombat\r\n",
    "neurocombat(centers, personal_info_prefix = 'personal_info/{}.csv',\r\n",
    "                cat_prefix = 'report/cat_{}.xml',\r\n",
    "                csv_prefix = 'roi_ct/{}.csv',\r\n",
    "                out_prefix = 'neurocombat_ct/{}.csv')"
   ],
   "outputs": [
    {
     "output_type": "stream",
     "name": "stdout",
     "text": [
      "[neuroCombat] Creating design matrix\n",
      "[neuroCombat] Standardizing data across features\n",
      "[neuroCombat] Fitting L/S model and finding priors\n",
      "[neuroCombat] Finding parametric adjustments\n",
      "[neuroCombat] Final adjustment of data\n"
     ]
    }
   ],
   "metadata": {}
  },
  {
   "cell_type": "code",
   "execution_count": 9,
   "source": [
    "# Use harmonized data\r\n",
    "# Already Controlled For Age Gender TIV\r\n",
    "from personal_scores import create_stats_csv\r\n",
    "create_stats_csv(centers, 'neurocombat_gmv', out_dir='./data/stats/', divide_tiv=False)\r\n",
    "create_stats_csv(centers, 'neurocombat_ct', out_dir='./data/stats/', divide_tiv=False)"
   ],
   "outputs": [
    {
     "output_type": "stream",
     "name": "stdout",
     "text": [
      "247\n",
      "247\n",
      "247\n",
      "211\n",
      "211\n",
      "211\n"
     ]
    }
   ],
   "metadata": {}
  },
  {
   "cell_type": "code",
   "execution_count": 3,
   "source": [
    "import personal_scores\r\n",
    "import importlib\r\n",
    "importlib.reload(personal_scores)\r\n",
    "personal_scores.cal_personal_scores(centers, './data/stats/neurocombat_gmv',\r\n",
    "                    'neurocombat_gmv/{}.csv', 'personal_scores/{}.csv')"
   ],
   "outputs": [],
   "metadata": {}
  },
  {
   "cell_type": "code",
   "execution_count": null,
   "source": [
    "import personal_scores\r\n",
    "import importlib\r\n",
    "importlib.reload(personal_scores)\r\n",
    "personal_scores.cal_personal_scores(centers, './data/stats/neurocombat_ct',\r\n",
    "                    'neurocombat_ct/{}.csv', 'personal_scores_ct/{}.csv')"
   ],
   "outputs": [],
   "metadata": {}
  },
  {
   "cell_type": "markdown",
   "source": [
    "## Subtype analysis see subtype_unsupervised.py"
   ],
   "metadata": {}
  },
  {
   "cell_type": "code",
   "execution_count": 1,
   "source": [
    "from draw_center_summary import get_center_stats\r\n",
    "get_center_stats(csv_path='./results/s.csv')"
   ],
   "outputs": [
    {
     "output_type": "stream",
     "name": "stdout",
     "text": [
      "MCAD 0\n",
      "MCAD 1\n",
      "MCAD 2\n",
      "ADNI 0\n",
      "ADNI 1\n",
      "ADNI 2\n",
      "EDSD 0\n",
      "EDSD 1\n",
      "EDSD 2\n"
     ]
    },
    {
     "output_type": "execute_result",
     "data": {
      "text/html": [
       "<div>\n",
       "<style scoped>\n",
       "    .dataframe tbody tr th:only-of-type {\n",
       "        vertical-align: middle;\n",
       "    }\n",
       "\n",
       "    .dataframe tbody tr th {\n",
       "        vertical-align: top;\n",
       "    }\n",
       "\n",
       "    .dataframe thead th {\n",
       "        text-align: right;\n",
       "    }\n",
       "</style>\n",
       "<table border=\"1\" class=\"dataframe\">\n",
       "  <thead>\n",
       "    <tr style=\"text-align: right;\">\n",
       "      <th></th>\n",
       "      <th>Male</th>\n",
       "      <th>Female</th>\n",
       "      <th>ages_mean</th>\n",
       "      <th>ages_std</th>\n",
       "      <th>mmses_mean</th>\n",
       "      <th>mmses_std</th>\n",
       "      <th>csfs_mean</th>\n",
       "      <th>csfs_std</th>\n",
       "      <th>gmvs_mean</th>\n",
       "      <th>gmvs_std</th>\n",
       "      <th>wmvs_mean</th>\n",
       "      <th>wmvs_std</th>\n",
       "      <th>tivs_mean</th>\n",
       "      <th>tivs_std</th>\n",
       "    </tr>\n",
       "  </thead>\n",
       "  <tbody>\n",
       "    <tr>\n",
       "      <th>0</th>\n",
       "      <td>147.0</td>\n",
       "      <td>188.0</td>\n",
       "      <td>64.710448</td>\n",
       "      <td>8.857228</td>\n",
       "      <td>28.600000</td>\n",
       "      <td>1.578210</td>\n",
       "      <td>378.407575</td>\n",
       "      <td>77.979905</td>\n",
       "      <td>590.894724</td>\n",
       "      <td>53.096343</td>\n",
       "      <td>492.837801</td>\n",
       "      <td>54.241709</td>\n",
       "      <td>1463.449425</td>\n",
       "      <td>140.815645</td>\n",
       "    </tr>\n",
       "    <tr>\n",
       "      <th>1</th>\n",
       "      <td>138.0</td>\n",
       "      <td>162.0</td>\n",
       "      <td>68.493333</td>\n",
       "      <td>9.264086</td>\n",
       "      <td>25.146667</td>\n",
       "      <td>3.492634</td>\n",
       "      <td>419.421267</td>\n",
       "      <td>94.805143</td>\n",
       "      <td>563.375270</td>\n",
       "      <td>59.650053</td>\n",
       "      <td>471.966843</td>\n",
       "      <td>56.381031</td>\n",
       "      <td>1456.951148</td>\n",
       "      <td>146.721480</td>\n",
       "    </tr>\n",
       "    <tr>\n",
       "      <th>2</th>\n",
       "      <td>154.0</td>\n",
       "      <td>245.0</td>\n",
       "      <td>69.228070</td>\n",
       "      <td>9.147941</td>\n",
       "      <td>16.671679</td>\n",
       "      <td>5.962706</td>\n",
       "      <td>459.672948</td>\n",
       "      <td>96.598422</td>\n",
       "      <td>524.458289</td>\n",
       "      <td>63.468180</td>\n",
       "      <td>442.927021</td>\n",
       "      <td>57.267773</td>\n",
       "      <td>1430.555682</td>\n",
       "      <td>141.686080</td>\n",
       "    </tr>\n",
       "    <tr>\n",
       "      <th>3</th>\n",
       "      <td>278.0</td>\n",
       "      <td>322.0</td>\n",
       "      <td>73.484000</td>\n",
       "      <td>6.113985</td>\n",
       "      <td>29.086667</td>\n",
       "      <td>1.093537</td>\n",
       "      <td>392.915092</td>\n",
       "      <td>87.081018</td>\n",
       "      <td>549.016710</td>\n",
       "      <td>53.221221</td>\n",
       "      <td>478.654837</td>\n",
       "      <td>62.076641</td>\n",
       "      <td>1425.325039</td>\n",
       "      <td>154.980623</td>\n",
       "    </tr>\n",
       "    <tr>\n",
       "      <th>4</th>\n",
       "      <td>412.0</td>\n",
       "      <td>283.0</td>\n",
       "      <td>73.225324</td>\n",
       "      <td>7.661581</td>\n",
       "      <td>27.458993</td>\n",
       "      <td>1.822553</td>\n",
       "      <td>432.705054</td>\n",
       "      <td>96.642130</td>\n",
       "      <td>532.982351</td>\n",
       "      <td>54.903806</td>\n",
       "      <td>477.067643</td>\n",
       "      <td>64.100244</td>\n",
       "      <td>1448.685739</td>\n",
       "      <td>156.123862</td>\n",
       "    </tr>\n",
       "    <tr>\n",
       "      <th>5</th>\n",
       "      <td>147.0</td>\n",
       "      <td>130.0</td>\n",
       "      <td>74.864621</td>\n",
       "      <td>7.754913</td>\n",
       "      <td>23.144404</td>\n",
       "      <td>2.112558</td>\n",
       "      <td>473.729479</td>\n",
       "      <td>103.394721</td>\n",
       "      <td>499.522494</td>\n",
       "      <td>54.857582</td>\n",
       "      <td>455.181091</td>\n",
       "      <td>62.803925</td>\n",
       "      <td>1436.651167</td>\n",
       "      <td>176.914913</td>\n",
       "    </tr>\n",
       "    <tr>\n",
       "      <th>6</th>\n",
       "      <td>98.0</td>\n",
       "      <td>116.0</td>\n",
       "      <td>68.790467</td>\n",
       "      <td>6.185989</td>\n",
       "      <td>28.822430</td>\n",
       "      <td>1.142330</td>\n",
       "      <td>355.418527</td>\n",
       "      <td>73.828516</td>\n",
       "      <td>551.603515</td>\n",
       "      <td>53.148382</td>\n",
       "      <td>487.785656</td>\n",
       "      <td>63.811371</td>\n",
       "      <td>1398.911961</td>\n",
       "      <td>149.442158</td>\n",
       "    </tr>\n",
       "    <tr>\n",
       "      <th>7</th>\n",
       "      <td>76.0</td>\n",
       "      <td>64.0</td>\n",
       "      <td>72.800000</td>\n",
       "      <td>6.607571</td>\n",
       "      <td>26.278571</td>\n",
       "      <td>2.080755</td>\n",
       "      <td>431.410909</td>\n",
       "      <td>82.764789</td>\n",
       "      <td>516.460010</td>\n",
       "      <td>55.708581</td>\n",
       "      <td>458.482994</td>\n",
       "      <td>64.115596</td>\n",
       "      <td>1413.026853</td>\n",
       "      <td>152.656923</td>\n",
       "    </tr>\n",
       "    <tr>\n",
       "      <th>8</th>\n",
       "      <td>67.0</td>\n",
       "      <td>91.0</td>\n",
       "      <td>72.561203</td>\n",
       "      <td>8.057689</td>\n",
       "      <td>20.962025</td>\n",
       "      <td>5.032661</td>\n",
       "      <td>439.903494</td>\n",
       "      <td>71.311132</td>\n",
       "      <td>478.771385</td>\n",
       "      <td>56.364869</td>\n",
       "      <td>432.804932</td>\n",
       "      <td>67.578743</td>\n",
       "      <td>1358.198462</td>\n",
       "      <td>152.106409</td>\n",
       "    </tr>\n",
       "  </tbody>\n",
       "</table>\n",
       "</div>"
      ],
      "text/plain": [
       "    Male  Female  ages_mean  ages_std  mmses_mean  mmses_std   csfs_mean  \\\n",
       "0  147.0   188.0  64.710448  8.857228   28.600000   1.578210  378.407575   \n",
       "1  138.0   162.0  68.493333  9.264086   25.146667   3.492634  419.421267   \n",
       "2  154.0   245.0  69.228070  9.147941   16.671679   5.962706  459.672948   \n",
       "3  278.0   322.0  73.484000  6.113985   29.086667   1.093537  392.915092   \n",
       "4  412.0   283.0  73.225324  7.661581   27.458993   1.822553  432.705054   \n",
       "5  147.0   130.0  74.864621  7.754913   23.144404   2.112558  473.729479   \n",
       "6   98.0   116.0  68.790467  6.185989   28.822430   1.142330  355.418527   \n",
       "7   76.0    64.0  72.800000  6.607571   26.278571   2.080755  431.410909   \n",
       "8   67.0    91.0  72.561203  8.057689   20.962025   5.032661  439.903494   \n",
       "\n",
       "     csfs_std   gmvs_mean   gmvs_std   wmvs_mean   wmvs_std    tivs_mean  \\\n",
       "0   77.979905  590.894724  53.096343  492.837801  54.241709  1463.449425   \n",
       "1   94.805143  563.375270  59.650053  471.966843  56.381031  1456.951148   \n",
       "2   96.598422  524.458289  63.468180  442.927021  57.267773  1430.555682   \n",
       "3   87.081018  549.016710  53.221221  478.654837  62.076641  1425.325039   \n",
       "4   96.642130  532.982351  54.903806  477.067643  64.100244  1448.685739   \n",
       "5  103.394721  499.522494  54.857582  455.181091  62.803925  1436.651167   \n",
       "6   73.828516  551.603515  53.148382  487.785656  63.811371  1398.911961   \n",
       "7   82.764789  516.460010  55.708581  458.482994  64.115596  1413.026853   \n",
       "8   71.311132  478.771385  56.364869  432.804932  67.578743  1358.198462   \n",
       "\n",
       "     tivs_std  \n",
       "0  140.815645  \n",
       "1  146.721480  \n",
       "2  141.686080  \n",
       "3  154.980623  \n",
       "4  156.123862  \n",
       "5  176.914913  \n",
       "6  149.442158  \n",
       "7  152.656923  \n",
       "8  152.106409  "
      ]
     },
     "metadata": {},
     "execution_count": 1
    }
   ],
   "metadata": {}
  }
 ],
 "metadata": {
  "kernelspec": {
   "name": "python3",
   "display_name": "Python 3.7.10 64-bit ('meta': conda)"
  },
  "language_info": {
   "codemirror_mode": {
    "name": "ipython",
    "version": 3
   },
   "file_extension": ".py",
   "mimetype": "text/x-python",
   "name": "python",
   "nbconvert_exporter": "python",
   "pygments_lexer": "ipython3",
   "version": "3.7.10"
  },
  "interpreter": {
   "hash": "afb4f8071725c9e48933e14b3ae0e9165643049a1ee7f554a0f820013fd94229"
  }
 },
 "nbformat": 4,
 "nbformat_minor": 5
}